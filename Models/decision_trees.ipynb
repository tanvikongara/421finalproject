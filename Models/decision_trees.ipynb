{
 "cells": [
  {
   "cell_type": "markdown",
   "id": "fe481b96",
   "metadata": {},
   "source": [
    "1. Tree-based models (very popular, often best starting point)  \n",
    "\t•\tRandom Forest (good baseline, very robust)  \n",
    "\tGradient Boosting models:  \n",
    "\t•\tXGBoost  \n",
    "\t•\tLightGBM  \n",
    "\t•\tCatBoost (good if you have categorical variables, not your case but still strong)  "
   ]
  }
 ],
 "metadata": {
  "language_info": {
   "name": "python"
  }
 },
 "nbformat": 4,
 "nbformat_minor": 5
}
