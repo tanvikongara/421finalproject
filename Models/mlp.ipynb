{
 "cells": [
  {
   "cell_type": "markdown",
   "id": "ea340d70",
   "metadata": {},
   "source": [
    "# MLP"
   ]
  },
  {
   "cell_type": "code",
   "execution_count": 1,
   "id": "788dc133",
   "metadata": {},
   "outputs": [],
   "source": [
    "from sklearn.preprocessing import LabelEncoder, StandardScaler\n",
    "import torch\n",
    "from torch.utils.data import TensorDataset, DataLoader\n",
    "import pandas as pd\n",
    "import numpy as np\n"
   ]
  },
  {
   "cell_type": "code",
   "execution_count": null,
   "id": "7fbcb7dd",
   "metadata": {},
   "outputs": [],
   "source": [
    "df_smote_1000 = pd.read_csv(\"../Data/df_smote_1000.csv\")\n",
    "df_smote_2500 = pd.read_csv(\"../Data/df_smote_2500.csv\")\n",
    "\n",
    "def preprocess(df):\n",
    "    # using label encoder\n",
    "    le = LabelEncoder()\n",
    "    df['Label_encoded'] = le.fit_transform(df['Label'])\n",
    "\n",
    "    # separating X and y\n",
    "    X = df.drop(columns=['Label', 'Label_encoded'])\n",
    "    y = df['Label_encoded']\n",
    "\n",
    "    # using standard scaler for normalization\n",
    "    scaler = StandardScaler()\n",
    "    X_scaled = scaler.fit_transform(X)\n",
    "\n",
    "    X_tensor = torch.tensor(X_scaled, dtype=torch.float32)\n",
    "    y_tensor = torch.tensor(y.values, dtype=torch.long)\n",
    "\n",
    "    from sklearn.model_selection import train_test_split\n",
    "    X_train, X_test, y_train, y_test = train_test_split(\n",
    "        X_tensor, y_tensor, test_size=0.2, stratify=y_tensor, random_state=42\n",
    "    )\n",
    "\n",
    "    train_ds = TensorDataset(X_train, y_train)\n",
    "    test_ds = TensorDataset(X_test, y_test)\n",
    "\n",
    "    train_loader = DataLoader(train_ds, batch_size=64, shuffle=True)\n",
    "    test_loader = DataLoader(test_ds, batch_size=64)\n",
    "\n",
    "    return train_ds, test_ds, train_loader, test_loader\n",
    "    "
   ]
  },
  {
   "cell_type": "code",
   "execution_count": 3,
   "id": "550ad72a",
   "metadata": {},
   "outputs": [],
   "source": [
    "df_smote_1000_train, df_smote_1000_test, df_smote_1000_train_loader, df_smote_1000_test_loader = preprocess(df_smote_1000)\n",
    "df_smote_2500_train, df_smote_2500_test, df_smote_2500_train_loader, df_smote_2500_test_loader = preprocess(df_smote_2500)"
   ]
  },
  {
   "cell_type": "code",
   "execution_count": 4,
   "id": "b7fb323a",
   "metadata": {},
   "outputs": [],
   "source": [
    "import torch\n",
    "import torch.nn as nn\n",
    "import torch.nn.functional as F\n",
    "\n",
    "class MLP(nn.Module):\n",
    "    def __init__(self, input_dim, output_dim, dropout=0.5):\n",
    "        super(MLP, self).__init__()\n",
    "        self.fc1 = nn.Linear(input_dim, 256)\n",
    "        self.bn1 = nn.BatchNorm1d(256)\n",
    "\n",
    "        self.fc2 = nn.Linear(256, 256)\n",
    "        self.bn2 = nn.BatchNorm1d(256)\n",
    "\n",
    "        self.fc3 = nn.Linear(256, 128)\n",
    "        self.bn3 = nn.BatchNorm1d(128)\n",
    "\n",
    "        self.fc4 = nn.Linear(128, 64)\n",
    "        self.bn4 = nn.BatchNorm1d(64)\n",
    "\n",
    "        self.fc5 = nn.Linear(64, output_dim)\n",
    "\n",
    "        # Projection layer for residual connection (256 → 128)\n",
    "        self.res_proj = nn.Linear(256, 128)\n",
    "\n",
    "        self.dropout = dropout\n",
    "\n",
    "    def forward(self, x):\n",
    "        x = F.leaky_relu(self.bn1(self.fc1(x)))\n",
    "        x = F.dropout(x, p=self.dropout, training=self.training)\n",
    "\n",
    "        x = F.leaky_relu(self.bn2(self.fc2(x)))\n",
    "        x = F.dropout(x, p=self.dropout, training=self.training)\n",
    "\n",
    "        residual = x  # Save for residual connection\n",
    "        x = F.leaky_relu(self.bn3(self.fc3(x)))\n",
    "        x = self.res_proj(residual) + x  # Project and add residual\n",
    "        x = F.dropout(x, p=self.dropout, training=self.training)\n",
    "\n",
    "        x = F.leaky_relu(self.bn4(self.fc4(x)))\n",
    "        x = F.dropout(x, p=self.dropout, training=self.training)\n",
    "\n",
    "        return self.fc5(x)"
   ]
  },
  {
   "cell_type": "markdown",
   "id": "256b3f42",
   "metadata": {},
   "source": [
    "### Training and Evaluation Code"
   ]
  },
  {
   "cell_type": "code",
   "execution_count": null,
   "id": "f63bf367",
   "metadata": {},
   "outputs": [],
   "source": [
    "import torch\n",
    "import torch.nn as nn\n",
    "import torch.nn.functional as F\n",
    "from torch.optim import Adam\n",
    "from torch.optim.lr_scheduler import StepLR\n",
    "from torch.utils.data import DataLoader, TensorDataset\n",
    "\n",
    "from sklearn.metrics import classification_report, confusion_matrix\n",
    "import matplotlib.pyplot as plt\n",
    "import numpy as np\n",
    "\n",
    "\n",
    "def train_model(model, train_loader, num_epochs=200, lr=0.01, step_size=40, gamma=0.5, device='cpu'):\n",
    "    '''\n",
    "    num_epochs: Number of epochs to train the model\n",
    "    lr: Learning rate\n",
    "\n",
    "    #learning rate scheduler\n",
    "    step_size: Number of epochs to wait before reducing the learning rate\n",
    "    gamma: Factor by which the learning rate is reduced\n",
    "    '''\n",
    "    model.to(device)\n",
    "    criterion = nn.CrossEntropyLoss()\n",
    "    optimizer = Adam(model.parameters(), lr=lr)\n",
    "    scheduler = StepLR(optimizer, step_size=step_size, gamma=gamma)\n",
    "\n",
    "    loss_history = []\n",
    "\n",
    "    for epoch in range(num_epochs):\n",
    "        model.train()\n",
    "        total_loss = 0\n",
    "\n",
    "        for X_batch, y_batch in train_loader:\n",
    "            X_batch, y_batch = X_batch.to(device), y_batch.to(device)\n",
    "\n",
    "            optimizer.zero_grad()\n",
    "            outputs = model(X_batch)\n",
    "            loss = criterion(outputs, y_batch)\n",
    "            loss.backward()\n",
    "            optimizer.step()\n",
    "\n",
    "            total_loss += loss.item()\n",
    "\n",
    "        scheduler.step()\n",
    "        loss_history.append(total_loss)\n",
    "\n",
    "        if (epoch + 1) % 10 == 0:\n",
    "            print(f\"Epoch {epoch+1}/{num_epochs}, Loss: {total_loss:.4f}\")\n",
    "\n",
    "    # plotting\n",
    "    plt.figure(figsize=(8, 4))\n",
    "    plt.plot(range(1, num_epochs + 1), loss_history, marker='o')\n",
    "    plt.xlabel(\"Epoch\")\n",
    "    plt.ylabel(\"Loss\")\n",
    "    plt.title(\"Training Loss Over Time\")\n",
    "    plt.grid(True)\n",
    "    plt.tight_layout()\n",
    "    plt.show()\n",
    "\n",
    "    return model\n",
    "\n",
    "\n",
    "def evaluate_model(model, test_loader, device='cpu'):\n",
    "    model.eval()\n",
    "    all_preds = []\n",
    "    all_labels = []\n",
    "\n",
    "    with torch.no_grad():\n",
    "        for X_batch, y_batch in test_loader:\n",
    "            X_batch = X_batch.to(device)\n",
    "            outputs = model(X_batch)\n",
    "            preds = torch.argmax(outputs, dim=1)\n",
    "            all_preds.extend(preds.cpu().numpy())\n",
    "            all_labels.extend(y_batch.numpy())\n",
    "\n",
    "    print(\"\\nClassification Report:\")\n",
    "    print(classification_report(all_labels, all_preds))\n",
    "\n",
    "    print(\"\\nConfusion Matrix:\")\n",
    "    print(confusion_matrix(all_labels, all_preds))"
   ]
  },
  {
   "cell_type": "markdown",
   "id": "6b38e69d",
   "metadata": {},
   "source": [
    "## Training and Evaluating SMOTE 1000 model"
   ]
  },
  {
   "cell_type": "code",
   "execution_count": null,
   "id": "4c0d05a8",
   "metadata": {},
   "outputs": [
    {
     "name": "stdout",
     "output_type": "stream",
     "text": [
      "Epoch 10/250, Loss: 588.7357\n",
      "Epoch 20/250, Loss: 570.5074\n",
      "Epoch 30/250, Loss: 556.0414\n",
      "Epoch 40/250, Loss: 546.7068\n",
      "Epoch 50/250, Loss: 534.5371\n",
      "Epoch 60/250, Loss: 533.9530\n",
      "Epoch 70/250, Loss: 529.8263\n",
      "Epoch 80/250, Loss: 527.6667\n",
      "Epoch 90/250, Loss: 520.6271\n",
      "Epoch 100/250, Loss: 517.1225\n",
      "Epoch 110/250, Loss: 514.3850\n",
      "Epoch 120/250, Loss: 516.4641\n",
      "Epoch 130/250, Loss: 510.5691\n",
      "Epoch 140/250, Loss: 508.0405\n",
      "Epoch 150/250, Loss: 507.7935\n",
      "Epoch 160/250, Loss: 506.3340\n",
      "Epoch 170/250, Loss: 502.4760\n",
      "Epoch 180/250, Loss: 501.3846\n",
      "Epoch 190/250, Loss: 501.5993\n",
      "Epoch 200/250, Loss: 501.2587\n",
      "Epoch 210/250, Loss: 498.8261\n",
      "Epoch 220/250, Loss: 496.5348\n",
      "Epoch 230/250, Loss: 496.6990\n",
      "Epoch 240/250, Loss: 496.4156\n",
      "Epoch 250/250, Loss: 491.8230\n"
     ]
    },
    {
     "data": {
      "image/png": "[encoded data removed]",
      "text/plain": [
       "<Figure size 800x400 with 1 Axes>"
      ]
     },
     "metadata": {},
     "output_type": "display_data"
    }
   ],
   "source": [
    "# df_smote_1000\n",
    "input_dim = df_smote_1000_train.tensors[0].shape[1]\n",
    "output_dim = len(torch.unique(df_smote_1000_train.tensors[1]))\n",
    "model_1000 = MLP(input_dim, output_dim)\n",
    "\n",
    "# training\n",
    "model_1000 = train_model(model_1000, df_smote_1000_train_loader, num_epochs=250, lr=0.01, step_size=40, gamma=0.75)"
   ]
  },
  {
   "cell_type": "code",
   "execution_count": 9,
   "id": "ed16d52b",
   "metadata": {},
   "outputs": [
    {
     "name": "stdout",
     "output_type": "stream",
     "text": [
      "\n",
      "Classification Report:\n",
      "              precision    recall  f1-score   support\n",
      "\n",
      "           0       0.39      0.14      0.21       200\n",
      "           1       0.25      0.70      0.37       200\n",
      "           2       0.46      0.42      0.44       200\n",
      "           3       0.78      0.25      0.38       200\n",
      "           4       1.00      0.98      0.99       200\n",
      "           5       0.96      0.69      0.81       200\n",
      "           6       1.00      0.99      1.00       200\n",
      "           7       0.99      0.99      0.99       200\n",
      "           8       1.00      0.98      0.99       200\n",
      "           9       1.00      0.99      0.99       200\n",
      "          10       0.80      0.99      0.89       200\n",
      "          11       0.37      0.99      0.54       200\n",
      "          12       1.00      0.01      0.01       200\n",
      "          13       0.50      0.99      0.67       200\n",
      "          14       0.61      0.96      0.75       200\n",
      "          15       0.99      0.96      0.98       200\n",
      "          16       0.62      0.41      0.49       200\n",
      "          17       0.67      0.34      0.45       200\n",
      "          18       0.78      0.91      0.84       200\n",
      "          19       0.79      0.26      0.39       200\n",
      "          20       1.00      0.01      0.01       200\n",
      "          21       0.94      0.39      0.55       200\n",
      "          22       0.50      0.98      0.66       200\n",
      "          23       0.80      0.02      0.04       200\n",
      "          24       0.99      0.99      0.99       200\n",
      "          25       0.53      0.42      0.47       200\n",
      "          26       0.64      0.55      0.59       200\n",
      "          27       0.64      0.04      0.08       200\n",
      "          28       0.33      0.30      0.32       200\n",
      "          29       0.54      0.28      0.37       200\n",
      "          30       0.22      0.56      0.31       200\n",
      "          31       0.30      0.80      0.44       200\n",
      "          32       0.52      0.12      0.20       200\n",
      "          33       0.15      0.12      0.14       200\n",
      "\n",
      "    accuracy                           0.58      6800\n",
      "   macro avg       0.68      0.58      0.54      6800\n",
      "weighted avg       0.68      0.58      0.54      6800\n",
      "\n",
      "\n",
      "Confusion Matrix:\n",
      "[[ 28  26   3 ...  67   0  23]\n",
      " [  0 141   7 ...  11   2   2]\n",
      " [  5  28  85 ...  21   3  16]\n",
      " ...\n",
      " [  1   7   1 ... 160   0   6]\n",
      " [  2  18  18 ...  19  24   6]\n",
      " [ 12  35   9 ...  76   1  25]]\n"
     ]
    }
   ],
   "source": [
    "evaluate_model(model_1000, df_smote_1000_test_loader)"
   ]
  },
  {
   "cell_type": "markdown",
   "id": "b7efc90c",
   "metadata": {},
   "source": [
    "## Training and Evaluating SMOTE 2500 model"
   ]
  },
  {
   "cell_type": "code",
   "execution_count": null,
   "id": "cdca098c",
   "metadata": {},
   "outputs": [
    {
     "name": "stdout",
     "output_type": "stream",
     "text": [
      "Epoch 10/250, Loss: 1410.1935\n",
      "Epoch 20/250, Loss: 1366.2155\n",
      "Epoch 30/250, Loss: 1346.5892\n",
      "Epoch 40/250, Loss: 1329.7434\n",
      "Epoch 50/250, Loss: 1307.5201\n",
      "Epoch 60/250, Loss: 1296.5215\n",
      "Epoch 70/250, Loss: 1295.8174\n",
      "Epoch 80/250, Loss: 1287.5409\n",
      "Epoch 90/250, Loss: 1272.2180\n",
      "Epoch 100/250, Loss: 1268.8188\n",
      "Epoch 110/250, Loss: 1265.5462\n",
      "Epoch 120/250, Loss: 1262.2366\n",
      "Epoch 130/250, Loss: 1248.8901\n",
      "Epoch 140/250, Loss: 1252.5975\n",
      "Epoch 150/250, Loss: 1248.4030\n",
      "Epoch 160/250, Loss: 1245.6431\n",
      "Epoch 170/250, Loss: 1240.5164\n",
      "Epoch 180/250, Loss: 1238.3426\n",
      "Epoch 190/250, Loss: 1234.1068\n",
      "Epoch 200/250, Loss: 1232.5468\n",
      "Epoch 210/250, Loss: 1229.2915\n",
      "Epoch 220/250, Loss: 1230.4544\n",
      "Epoch 230/250, Loss: 1227.7106\n",
      "Epoch 240/250, Loss: 1225.5098\n",
      "Epoch 250/250, Loss: 1221.7855\n"
     ]
    },
    {
     "data": {
      "image/png": "[encoded data removed]",
      "text/plain": [
       "<Figure size 800x400 with 1 Axes>"
      ]
     },
     "metadata": {},
     "output_type": "display_data"
    }
   ],
   "source": [
    "input_dim = df_smote_2500_train.tensors[0].shape[1]\n",
    "output_dim = len(torch.unique(df_smote_2500_train.tensors[1]))\n",
    "model_2500 = MLP(input_dim, output_dim)\n",
    "\n",
    "# training\n",
    "model_2500 = train_model(model_2500, df_smote_2500_train_loader, num_epochs=250, lr=0.01, step_size=40, gamma=0.75)\n"
   ]
  },
  {
   "cell_type": "code",
   "execution_count": 14,
   "id": "e5bf1520",
   "metadata": {},
   "outputs": [
    {
     "name": "stdout",
     "output_type": "stream",
     "text": [
      "\n",
      "Classification Report:\n",
      "              precision    recall  f1-score   support\n",
      "\n",
      "           0       0.32      0.18      0.23       500\n",
      "           1       0.33      0.55      0.41       500\n",
      "           2       0.34      0.55      0.42       500\n",
      "           3       0.76      0.28      0.41       500\n",
      "           4       1.00      0.99      0.99       500\n",
      "           5       0.92      0.76      0.83       500\n",
      "           6       1.00      0.99      1.00       500\n",
      "           7       1.00      0.99      0.99       500\n",
      "           8       1.00      0.99      1.00       500\n",
      "           9       1.00      1.00      1.00       500\n",
      "          10       0.85      0.99      0.91       500\n",
      "          11       0.38      0.99      0.55       500\n",
      "          12       1.00      0.00      0.01       500\n",
      "          13       0.54      0.68      0.61       500\n",
      "          14       0.60      0.96      0.74       500\n",
      "          15       1.00      0.99      0.99       500\n",
      "          16       0.74      0.41      0.52       500\n",
      "          17       0.79      0.29      0.43       500\n",
      "          18       0.80      0.90      0.85       500\n",
      "          19       0.68      0.25      0.37       500\n",
      "          20       0.57      0.41      0.48       500\n",
      "          21       0.90      0.34      0.50       500\n",
      "          22       0.52      0.97      0.67       500\n",
      "          23       0.75      0.08      0.14       500\n",
      "          24       1.00      0.99      0.99       500\n",
      "          25       0.65      0.29      0.40       500\n",
      "          26       0.54      0.64      0.59       500\n",
      "          27       0.34      0.02      0.04       500\n",
      "          28       0.50      0.22      0.30       500\n",
      "          29       0.55      0.23      0.33       500\n",
      "          30       0.30      0.55      0.39       500\n",
      "          31       0.23      0.86      0.37       500\n",
      "          32       0.60      0.06      0.11       500\n",
      "          33       0.12      0.20      0.15       500\n",
      "\n",
      "    accuracy                           0.58     17000\n",
      "   macro avg       0.67      0.58      0.55     17000\n",
      "weighted avg       0.67      0.58      0.55     17000\n",
      "\n",
      "\n",
      "Confusion Matrix:\n",
      "[[ 88  45  12 ... 223   0  94]\n",
      " [ 17 276  48 ...  42   9  52]\n",
      " [ 14  28 274 ...  65   0  78]\n",
      " ...\n",
      " [  5   9  10 ... 429   0  35]\n",
      " [ 18  21  73 ...  77  30  47]\n",
      " [ 25  31  33 ... 258   0 101]]\n"
     ]
    }
   ],
   "source": [
    "evaluate_model(model_2500, df_smote_2500_test_loader, device='cuda' if torch.cuda.is_available() else 'cpu')"
   ]
  },
  {
   "cell_type": "markdown",
   "id": "689814ab",
   "metadata": {},
   "source": [
    "We got SMOTE_1000 accuracy to be 0.68.   \n",
    "We got SMOTE_2500 accuracy to be 0.67.  \n",
    "\n",
    "A little disappointed with these results and a little surprised that SMOTE_1000 did better than SMOTE_2500. Ill try using PCA to reduce the feature space.\n"
   ]
  },
  {
   "cell_type": "markdown",
   "id": "bf04597e",
   "metadata": {},
   "source": [
    "## PCA"
   ]
  },
  {
   "cell_type": "code",
   "execution_count": 18,
   "id": "f6b087c4",
   "metadata": {},
   "outputs": [],
   "source": [
    "from sklearn.decomposition import PCA\n",
    "\n",
    "def preprocess_with_pca(df, scale=True, n_components=None):\n",
    "    le = LabelEncoder()\n",
    "    df['Label_encoded'] = le.fit_transform(df['Label'])\n",
    "\n",
    "    X = df.drop(columns=['Label', 'Label_encoded'])\n",
    "    y = df['Label_encoded']\n",
    "\n",
    "    if scale:\n",
    "        scaler = StandardScaler()\n",
    "        X = scaler.fit_transform(X)\n",
    "    else:\n",
    "        X = X.values\n",
    "\n",
    "    if n_components is None:\n",
    "        raise ValueError(\"n_components must be specified when use_pca=True\")\n",
    "    pca = PCA(n_components=n_components)\n",
    "    X = pca.fit_transform(X)\n",
    "\n",
    "    X_tensor = torch.tensor(X, dtype=torch.float32)\n",
    "    y_tensor = torch.tensor(y.values, dtype=torch.long)\n",
    "\n",
    "    from sklearn.model_selection import train_test_split\n",
    "    X_train, X_test, y_train, y_test = train_test_split(\n",
    "        X_tensor, y_tensor, test_size=0.2, stratify=y_tensor, random_state=42\n",
    "    )\n",
    "\n",
    "    train_ds = TensorDataset(X_train, y_train)\n",
    "    test_ds = TensorDataset(X_test, y_test)\n",
    "\n",
    "    train_loader = DataLoader(train_ds, batch_size=64, shuffle=True)\n",
    "    test_loader = DataLoader(test_ds, batch_size=64)\n",
    "\n",
    "    return train_ds, test_ds, train_loader, test_loader"
   ]
  },
  {
   "cell_type": "code",
   "execution_count": null,
   "id": "1f17a73a",
   "metadata": {},
   "outputs": [],
   "source": [
    "df_smote_1000_train_pca_30, df_smote_1000_test_pca_30, df_smote_1000_train_loader_pca_30, df_smote_1000_test_loader_pca_30 = preprocess_with_pca(df_smote_1000, n_components=30)"
   ]
  },
  {
   "cell_type": "markdown",
   "id": "11edd41b",
   "metadata": {},
   "source": [
    "## Training and Evaluating SMOTE 1000 model with PCA of 30 components"
   ]
  },
  {
   "cell_type": "code",
   "execution_count": null,
   "id": "ee7044d9",
   "metadata": {},
   "outputs": [
    {
     "name": "stdout",
     "output_type": "stream",
     "text": [
      "Epoch 10/250, Loss: 583.8844\n",
      "Epoch 20/250, Loss: 566.0207\n",
      "Epoch 30/250, Loss: 557.1537\n",
      "Epoch 40/250, Loss: 549.5373\n",
      "Epoch 50/250, Loss: 538.4871\n",
      "Epoch 60/250, Loss: 534.7680\n",
      "Epoch 70/250, Loss: 532.1109\n",
      "Epoch 80/250, Loss: 529.5104\n",
      "Epoch 90/250, Loss: 522.0845\n",
      "Epoch 100/250, Loss: 521.2505\n",
      "Epoch 110/250, Loss: 522.2162\n",
      "Epoch 120/250, Loss: 519.3422\n",
      "Epoch 130/250, Loss: 512.3473\n",
      "Epoch 140/250, Loss: 515.2226\n",
      "Epoch 150/250, Loss: 508.5958\n",
      "Epoch 160/250, Loss: 511.4792\n",
      "Epoch 170/250, Loss: 506.1598\n",
      "Epoch 180/250, Loss: 507.5120\n",
      "Epoch 190/250, Loss: 505.1392\n",
      "Epoch 200/250, Loss: 504.7396\n",
      "Epoch 210/250, Loss: 503.7058\n",
      "Epoch 220/250, Loss: 501.0815\n",
      "Epoch 230/250, Loss: 500.4435\n",
      "Epoch 240/250, Loss: 499.6563\n",
      "Epoch 250/250, Loss: 497.0696\n"
     ]
    },
    {
     "data": {
      "image/png": "[encoded data removed]",
      "text/plain": [
       "<Figure size 800x400 with 1 Axes>"
      ]
     },
     "metadata": {},
     "output_type": "display_data"
    }
   ],
   "source": [
    "# df_smote_1000\n",
    "input_dim = df_smote_1000_train_pca_30.tensors[0].shape[1]\n",
    "output_dim = len(torch.unique(df_smote_1000_train_pca_30.tensors[1]))\n",
    "model_1000_pca_30 = MLP(input_dim, output_dim)\n",
    "\n",
    "# training\n",
    "model_1000_pca_30 = train_model(model_1000_pca_30, df_smote_1000_train_loader_pca_30, num_epochs=250, lr=0.01, step_size=40, gamma=0.75)"
   ]
  },
  {
   "cell_type": "code",
   "execution_count": 27,
   "id": "a1eac5fa",
   "metadata": {},
   "outputs": [
    {
     "name": "stdout",
     "output_type": "stream",
     "text": [
      "\n",
      "Classification Report:\n",
      "              precision    recall  f1-score   support\n",
      "\n",
      "           0       0.62      0.13      0.21       200\n",
      "           1       0.28      0.68      0.40       200\n",
      "           2       0.40      0.45      0.42       200\n",
      "           3       0.81      0.23      0.36       200\n",
      "           4       1.00      0.98      0.99       200\n",
      "           5       0.97      0.70      0.82       200\n",
      "           6       1.00      0.99      1.00       200\n",
      "           7       0.99      0.99      0.99       200\n",
      "           8       1.00      0.98      0.99       200\n",
      "           9       1.00      0.99      0.99       200\n",
      "          10       0.81      0.99      0.89       200\n",
      "          11       0.38      0.99      0.55       200\n",
      "          12       0.00      0.00      0.00       200\n",
      "          13       0.51      0.99      0.67       200\n",
      "          14       0.59      0.98      0.74       200\n",
      "          15       1.00      0.96      0.98       200\n",
      "          16       0.62      0.41      0.49       200\n",
      "          17       0.53      0.36      0.43       200\n",
      "          18       0.78      0.92      0.84       200\n",
      "          19       0.81      0.27      0.40       200\n",
      "          20       0.89      0.04      0.08       200\n",
      "          21       0.97      0.32      0.48       200\n",
      "          22       0.54      0.49      0.51       200\n",
      "          23       0.54      0.58      0.56       200\n",
      "          24       0.99      0.99      0.99       200\n",
      "          25       0.51      0.51      0.51       200\n",
      "          26       0.69      0.48      0.57       200\n",
      "          27       0.49      0.09      0.14       200\n",
      "          28       0.28      0.40      0.33       200\n",
      "          29       0.55      0.27      0.36       200\n",
      "          30       0.25      0.44      0.32       200\n",
      "          31       0.27      0.79      0.41       200\n",
      "          32       0.56      0.09      0.16       200\n",
      "          33       0.19      0.20      0.19       200\n",
      "\n",
      "    accuracy                           0.58      6800\n",
      "   macro avg       0.64      0.58      0.55      6800\n",
      "weighted avg       0.64      0.58      0.55      6800\n",
      "\n",
      "\n",
      "Confusion Matrix:\n",
      "[[ 26  26   5 ...  68   0  33]\n",
      " [  0 135  10 ...  10   3   6]\n",
      " [  1  28  89 ...  24   1  21]\n",
      " ...\n",
      " [  0   7   2 ... 157   0  11]\n",
      " [  1  16  21 ...  27  18  10]\n",
      " [  5  30  12 ...  81   0  40]]\n"
     ]
    },
    {
     "name": "stderr",
     "output_type": "stream",
     "text": [
      "/Library/Frameworks/Python.framework/Versions/3.10/lib/python3.10/site-packages/sklearn/metrics/_classification.py:1344: UndefinedMetricWarning: Precision and F-score are ill-defined and being set to 0.0 in labels with no predicted samples. Use `zero_division` parameter to control this behavior.\n",
      "  _warn_prf(average, modifier, msg_start, len(result))\n",
      "/Library/Frameworks/Python.framework/Versions/3.10/lib/python3.10/site-packages/sklearn/metrics/_classification.py:1344: UndefinedMetricWarning: Precision and F-score are ill-defined and being set to 0.0 in labels with no predicted samples. Use `zero_division` parameter to control this behavior.\n",
      "  _warn_prf(average, modifier, msg_start, len(result))\n",
      "/Library/Frameworks/Python.framework/Versions/3.10/lib/python3.10/site-packages/sklearn/metrics/_classification.py:1344: UndefinedMetricWarning: Precision and F-score are ill-defined and being set to 0.0 in labels with no predicted samples. Use `zero_division` parameter to control this behavior.\n",
      "  _warn_prf(average, modifier, msg_start, len(result))\n"
     ]
    }
   ],
   "source": [
    "evaluate_model(model_1000_pca_30, df_smote_1000_test_loader_pca_30)"
   ]
  },
  {
   "cell_type": "markdown",
   "id": "b1906a1a",
   "metadata": {},
   "source": [
    "Well, I guess this didnt matter too much either. Seems like XGBOOST might be the best for these classification tasks!."
   ]
  }
 ],
 "metadata": {
  "kernelspec": {
   "display_name": "Python 3",
   "language": "python",
   "name": "python3"
  },
  "language_info": {
   "codemirror_mode": {
    "name": "ipython",
    "version": 3
   },
   "file_extension": ".py",
   "mimetype": "text/x-python",
   "name": "python",
   "nbconvert_exporter": "python",
   "pygments_lexer": "ipython3",
   "version": "3.10.8"
  }
 },
 "nbformat": 4,
 "nbformat_minor": 5
}
