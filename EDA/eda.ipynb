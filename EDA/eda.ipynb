{
 "cells": [
  {
   "cell_type": "code",
   "execution_count": 2,
   "id": "6f6d359c",
   "metadata": {},
   "outputs": [],
   "source": [
    "import pandas as pd"
   ]
  },
  {
   "cell_type": "code",
   "execution_count": 5,
   "id": "dd577d7b",
   "metadata": {},
   "outputs": [
    {
     "name": "stdout",
     "output_type": "stream",
     "text": [
      "Loaded Merged01.csv with 712311 rows.\n",
      "Loaded Merged02.csv with 748585 rows.\n",
      "Loaded Merged03.csv with 697289 rows.\n",
      "Loaded Merged04.csv with 676620 rows.\n",
      "Loaded Merged05.csv with 744804 rows.\n",
      "Loaded Merged06.csv with 718229 rows.\n",
      "Loaded Merged07.csv with 702212 rows.\n",
      "Loaded Merged08.csv with 712220 rows.\n",
      "Loaded Merged09.csv with 678882 rows.\n",
      "Loaded Merged10.csv with 916190 rows.\n",
      "Loaded Merged11.csv with 909761 rows.\n",
      "Loaded Merged12.csv with 896941 rows.\n",
      "Loaded Merged13.csv with 709937 rows.\n",
      "Loaded Merged14.csv with 902920 rows.\n",
      "Loaded Merged15.csv with 718483 rows.\n",
      "Loaded Merged16.csv with 765369 rows.\n",
      "Loaded Merged17.csv with 731532 rows.\n",
      "Loaded Merged18.csv with 714063 rows.\n",
      "Loaded Merged19.csv with 701978 rows.\n",
      "Loaded Merged20.csv with 719927 rows.\n",
      "Loaded Merged21.csv with 692566 rows.\n",
      "Loaded Merged22.csv with 739382 rows.\n",
      "Loaded Merged23.csv with 688470 rows.\n",
      "Loaded Merged24.csv with 743201 rows.\n",
      "Loaded Merged25.csv with 700455 rows.\n",
      "Loaded Merged26.csv with 878940 rows.\n",
      "Loaded Merged27.csv with 720736 rows.\n",
      "Loaded Merged28.csv with 706379 rows.\n",
      "Loaded Merged29.csv with 717507 rows.\n",
      "Loaded Merged30.csv with 695672 rows.\n",
      "Loaded Merged31.csv with 682595 rows.\n",
      "Loaded Merged32.csv with 704067 rows.\n",
      "Loaded Merged33.csv with 793945 rows.\n",
      "Loaded Merged34.csv with 899094 rows.\n",
      "Loaded Merged35.csv with 920543 rows.\n",
      "Loaded Merged36.csv with 743302 rows.\n",
      "Loaded Merged37.csv with 688865 rows.\n",
      "Loaded Merged38.csv with 729577 rows.\n",
      "Loaded Merged39.csv with 677113 rows.\n",
      "Loaded Merged40.csv with 696694 rows.\n",
      "Loaded Merged41.csv with 712847 rows.\n",
      "Loaded Merged42.csv with 871730 rows.\n",
      "Loaded Merged43.csv with 692217 rows.\n",
      "Loaded Merged44.csv with 725937 rows.\n",
      "Loaded Merged45.csv with 673548 rows.\n",
      "Loaded Merged46.csv with 678328 rows.\n",
      "Loaded Merged47.csv with 657626 rows.\n",
      "Loaded Merged48.csv with 657630 rows.\n",
      "Loaded Merged49.csv with 642736 rows.\n",
      "Loaded Merged50.csv with 601085 rows.\n",
      "Loaded Merged51.csv with 214394 rows.\n",
      "Loaded Merged52.csv with 65724 rows.\n",
      "Loaded Merged53.csv with 907087 rows.\n",
      "Loaded Merged54.csv with 727442 rows.\n",
      "Loaded Merged55.csv with 754784 rows.\n",
      "Loaded Merged56.csv with 743836 rows.\n",
      "Loaded Merged57.csv with 865303 rows.\n",
      "Loaded Merged58.csv with 709636 rows.\n",
      "Loaded Merged59.csv with 687179 rows.\n",
      "Loaded Merged60.csv with 691573 rows.\n",
      "Loaded Merged61.csv with 711577 rows.\n",
      "Loaded Merged62.csv with 701507 rows.\n",
      "Loaded Merged63.csv with 428161 rows.\n",
      "All files loaded and merged!\n"
     ]
    }
   ],
   "source": [
    "# Base URL without the filename\n",
    "base_url = \"http://cicresearch.ca/IOTDataset/CIC_IOT_Dataset2023/Dataset/CSV/MERGED_CSV/\"\n",
    "\n",
    "# Store all the DataFrames\n",
    "dfs = []\n",
    "\n",
    "# Loop through file numbers 1 to 63\n",
    "for i in range(1, 64):\n",
    "    # Create filename with zero padding\n",
    "    filename = f\"Merged{i:02d}.csv\"\n",
    "    url = base_url + filename\n",
    "\n",
    "    # Read CSV into DataFrame\n",
    "    df = pd.read_csv(url)\n",
    "\n",
    "    # Print filename and number of rows\n",
    "    print(f\"Loaded {filename} with {len(df)} rows.\")\n",
    "\n",
    "    # Append to list\n",
    "    dfs.append(df)\n",
    "\n",
    "# Optionally concatenate them all into one big DataFrame\n",
    "merged_df = pd.concat(dfs, ignore_index=True)\n",
    "\n",
    "print(\"All files loaded and merged!\")"
   ]
  },
  {
   "cell_type": "code",
   "execution_count": 21,
   "id": "357521c1",
   "metadata": {},
   "outputs": [
    {
     "data": {
      "text/plain": [
       "'/Users/apendela10/STAT421/421finalproject'"
      ]
     },
     "execution_count": 21,
     "metadata": {},
     "output_type": "execute_result"
    }
   ],
   "source": [
    "import os\n",
    "os.path.abspath(os.getcwd())"
   ]
  },
  {
   "cell_type": "code",
   "execution_count": 23,
   "id": "46abddc4",
   "metadata": {},
   "outputs": [
    {
     "name": "stdout",
     "output_type": "stream",
     "text": [
      "Saved 63 individual .pkl files to '/Users/apendela10/STAT421/421finalproject/Data/Merged_Pkl_Files'.\n",
      "Saved merged dataset to '/Users/apendela10/STAT421/421finalproject/Data/total_merged_data.pkl'.\n"
     ]
    }
   ],
   "source": [
    "import os\n",
    "\n",
    "# Paths\n",
    "merged_pkl_folder = os.path.abspath(os.getcwd()) + \"/Data/Merged_Pkl_Files\"\n",
    "total_merged_path = os.path.abspath(os.getcwd()) + \"/Data/total_merged_data.pkl\"\n",
    "\n",
    "# Make sure directories exist\n",
    "os.makedirs(merged_pkl_folder, exist_ok=True)\n",
    "\n",
    "# Save individual DataFrames\n",
    "for i, df in enumerate(dfs, start=1):\n",
    "    filename_pkl = f\"Merged{i:02d}.pkl\"\n",
    "    save_path = os.path.join(merged_pkl_folder, filename_pkl)\n",
    "    df.to_pickle(save_path)\n",
    "\n",
    "print(f\"Saved {len(dfs)} individual .pkl files to '{merged_pkl_folder}'.\")\n",
    "\n",
    "# Merge all DataFrames\n",
    "merged_df = pd.concat(dfs, ignore_index=True)\n",
    "\n",
    "# Save total merged DataFrame\n",
    "merged_df.to_pickle(total_merged_path)\n",
    "\n",
    "print(f\"Saved merged dataset to '{total_merged_path}'.\")"
   ]
  }
 ],
 "metadata": {
  "kernelspec": {
   "display_name": "Python 3",
   "language": "python",
   "name": "python3"
  },
  "language_info": {
   "codemirror_mode": {
    "name": "ipython",
    "version": 3
   },
   "file_extension": ".py",
   "mimetype": "text/x-python",
   "name": "python",
   "nbconvert_exporter": "python",
   "pygments_lexer": "ipython3",
   "version": "3.10.8"
  }
 },
 "nbformat": 4,
 "nbformat_minor": 5
}
